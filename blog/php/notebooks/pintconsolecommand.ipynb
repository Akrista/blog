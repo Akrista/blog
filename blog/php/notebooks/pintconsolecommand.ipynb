{
 "cells": [
  {
   "attachments": {},
   "cell_type": "markdown",
   "metadata": {},
   "source": [
    "# Format Your Laravel Code with Pint\n",
    "\n",
    "Have you ever found yourself working on a Laravel project only to realize that the code is messy and difficult to understand? This can be incredibly frustrating, especially if you're not the original developer of the project. But don't worry, in Laravel there's a great package called [Pint](https://laravel.com/docs/9.x/pint) that allows you to format your code using the [PHP-CS-Fixer](https://github.com/PHP-CS-Fixer/PHP-CS-Fixer) tool, following best practices.\n",
    "\n",
    "However, using Pint from the command line can be a bit of a hassle, as you need to call the binary directly from `./vendor/bin/pint`. That's why I've created a simple console command to make it easier to use.\n",
    "\n",
    "In this tutorial, you'll learn how to use the Laravel Pint console command to format all the files in your Laravel project, following best practices. Get ready to have clean and organized code!\n",
    "\n",
    "Before we start, it's important to check what version of PHP and Composer you're using, so you can replicate the same results. To do this, use these commands:\n",
    "\n",
    "```console\n",
    "php -v\n",
    "composer -V\n",
    "```"
   ]
  },
  {
   "cell_type": "code",
   "execution_count": 4,
   "metadata": {
    "vscode": {
     "languageId": "php"
    }
   },
   "outputs": [
    {
     "data": {
      "text/plain": [
       "PHP 8.2.2 (cli) (built: Feb  7 2023 11:37:04) (NTS)\n",
       "Copyright (c) The PHP Group\n",
       "Zend Engine v4.2.2, Copyright (c) Zend Technologies\n",
       "    with Zend OPcache v8.2.2, Copyright (c), by Zend Technologies\n",
       "'Composer 2.0.9 2021-01-27 16:09:27\n",
       "'\n"
      ]
     },
     "execution_count": 4,
     "metadata": {},
     "output_type": "execute_result"
    }
   ],
   "source": [
    "#My PHP & Composer Version\n",
    "echo shell_exec(\"php -v\");\n",
    "strrchr(shell_exec(\"composer -V\"),\"Composer\");"
   ]
  },
  {
   "attachments": {},
   "cell_type": "markdown",
   "metadata": {},
   "source": [
    "Laravel's Artisan is more than just a simple command line interface, it's a powerful tool that can help you streamline your workflow and make your life easier as a developer. With Artisan, you can create new projects, generate new controllers and models, and much more with just a few simple commands.\n",
    "\n",
    "Let's take a look at a basic example of how you can use Artisan to get information about your Laravel project. Simply run the following command in your terminal:\n",
    "\n",
    "```console\n",
    "php artisan about\n",
    "```"
   ]
  },
  {
   "cell_type": "code",
   "execution_count": 5,
   "metadata": {
    "vscode": {
     "languageId": "php"
    }
   },
   "outputs": [
    {
     "data": {
      "text/plain": [
       "'\n",
       "  Environment ................................................................  \n",
       "  Application Name ................................................... Laravel  \n",
       "  Laravel Version ..................................................... 9.51.0  \n",
       "  PHP Version .......................................................... 8.2.2  \n",
       "  Composer Version ..................................................... 2.0.9  \n",
       "  Environment .......................................................... local  \n",
       "  Debug Mode ......................................................... ENABLED  \n",
       "  URL .............................................................. localhost  \n",
       "  Maintenance Mode ....................................................... OFF  \n",
       "\n",
       "  Cache ......................................................................  \n",
       "  Config .......................................................... NOT CACHED  \n",
       "  Events .......................................................... NOT CACHED  \n",
       "  Routes .......................................................... NOT CACHED  \n",
       "  Views ........................................................... NOT CACHED  \n",
       "\n",
       "  Drivers ....................................................................  \n",
       "  Broadcasting ........................................................... log  \n",
       "  Cache ................................................................. file  \n",
       "  Database ............................................................. mysql  \n",
       "  Logs ........................................................ stack / single  \n",
       "  Mail .................................................................. smtp  \n",
       "  Queue ................................................................. sync  \n",
       "  Session ............................................................... file  \n",
       "\n",
       "'\n"
      ]
     },
     "execution_count": 5,
     "metadata": {},
     "output_type": "execute_result"
    }
   ],
   "source": [
    "shell_exec(\"php artisan about\");"
   ]
  },
  {
   "attachments": {},
   "cell_type": "markdown",
   "metadata": {},
   "source": [
    "And voilà! You'll get all the details you need about your project.\n",
    "\n",
    "But that's not all! Artisan can do much more. For example, let's say you want to use Pint to format your code. You can create a new Artisan command specifically for this purpose with just one line of code:\n",
    "\n",
    "```console\n",
    "php artisan make:command PintCommand\n",
    "```"
   ]
  },
  {
   "cell_type": "code",
   "execution_count": 6,
   "metadata": {
    "vscode": {
     "languageId": "php"
    }
   },
   "outputs": [
    {
     "data": {
      "text/plain": [
       "'\n",
       "   INFO  Console command [app/Console/Commands/PintCommand.php] created successfully.  \n",
       "\n",
       "'\n"
      ]
     },
     "execution_count": 6,
     "metadata": {},
     "output_type": "execute_result"
    }
   ],
   "source": [
    "#Let's create the console command inside Laravel\n",
    "shell_exec(\"php artisan make:command PintCommand\");"
   ]
  },
  {
   "attachments": {},
   "cell_type": "markdown",
   "metadata": {},
   "source": [
    "Now that you've created the command, it's time to make it do something. Open the file app/Console/Commands/PintCommand.php and add the following code:\n",
    "\n",
    "```php\n",
    "<?php\n",
    "\n",
    "namespace App\\Console\\Commands;\n",
    "\n",
    "use Illuminate\\Console\\Command;\n",
    "\n",
    "class PintCommand extends Command\n",
    "{\n",
    "    /**\n",
    "     * The name and signature of the console command.\n",
    "     *\n",
    "     * @var string\n",
    "     */\n",
    "    protected $signature = 'pint:format {--p|preset=laravel : set of rules that can be used to fix code style issues in your code. currently supported presets are: laravel, psr12, and symfony.} {--c|config= : config file with presets, rules or exclusions for pint} {--v : verbose} {--t|test : inspect your code for style errors without actually changing the files} {--d|dirty : modify the files that have uncommitted changes according to Git}';\n",
    "\n",
    "    /**\n",
    "     * The console command description.\n",
    "     *\n",
    "     * @var string\n",
    "     */\n",
    "    protected $description = 'Laravel Pint is an opinionated PHP code style fixer for minimalists';\n",
    "\n",
    "    /**\n",
    "     * Execute the console command.\n",
    "     *\n",
    "     * @return int\n",
    "     */\n",
    "    public function handle()\n",
    "    {\n",
    "        $this->info('Running Pint...');\n",
    "        $options = $this->options();\n",
    "\n",
    "        if (! is_null($options['config']) && (substr($options['config'], -5) !== '.json')) {\n",
    "            $this->error('The --config option must be a .json file.');\n",
    "\n",
    "            return Command::FAILURE;\n",
    "        }\n",
    "\n",
    "        if (! is_null($options['preset']) && ($options['preset'] !== 'laravel' && $options['preset'] !== 'psr12' && $options['preset'] !== 'symfony')) {\n",
    "            $this->error('The --preset option must be one of these: laravel, psr12 or symfony.');\n",
    "\n",
    "            return Command::FAILURE;\n",
    "        }\n",
    "\n",
    "        $configfile = $options['config'];\n",
    "\n",
    "        $output = shell_exec('./vendor/bin/pint'.($options['config'] ? ' --config='.$configfile : '').($options['v'] ? ' -v' : '').($options['test'] ? ' --test' : '').($options['dirty'] ? ' --dirty' : ''));\n",
    "\n",
    "        echo $output.PHP_EOL;\n",
    "\n",
    "        return Command::SUCCESS;\n",
    "    }\n",
    "}\n",
    "```\n",
    "\n",
    "Here we're creating a new command called pint:format, which will run the pint command from the vendor/bin folder. We've also added several options to the command, such as --config, --preset, --verbose, --test, and --dirty, to give you more control over how Pint formats your code. We've also added some validation to make sure the options passed to the command are valid.\n",
    "\n",
    "To see if Artisan recognizes your new command, try running the following command in your terminal:\n",
    "\n",
    "```console\n",
    "php artisan -h pint:format\n",
    "```"
   ]
  },
  {
   "cell_type": "code",
   "execution_count": 7,
   "metadata": {
    "vscode": {
     "languageId": "php"
    }
   },
   "outputs": [
    {
     "data": {
      "text/plain": [
       "'Description:\n",
       "  Laravel Pint is an opinionated PHP code style fixer for minimalists\n",
       "\n",
       "Usage:\n",
       "  pint:format [options]\n",
       "\n",
       "Options:\n",
       "  -p, --preset[=PRESET]  set of rules that can be used to fix code style issues in your code. currently supported presets are: laravel, psr12, and symfony. [default: \"laravel\"]\n",
       "  -c, --config[=CONFIG]  config file with presets, rules or exclusions for pint\n",
       "      --v                verbose\n",
       "  -t, --test             inspect your code for style errors without actually changing the files\n",
       "  -d, --dirty            modify the files that have uncommitted changes according to Git\n",
       "  -h, --help             Display help for the given command. When no command is given display help for the list command\n",
       "  -q, --quiet            Do not output any message\n",
       "  -V, --version          Display this application version\n",
       "      --ansi|--no-ansi   Force (or disable --no-ansi) ANSI output\n",
       "  -n, --no-interaction   Do not ask any interactive question\n",
       "      --env[=ENV]        The environment the command should run under\n",
       "  -v|vv|vvv, --verbose   Increase the verbosity of messages: 1 for normal output, 2 for more verbose output and 3 for debug\n",
       "'\n"
      ]
     },
     "execution_count": 7,
     "metadata": {},
     "output_type": "execute_result"
    }
   ],
   "source": [
    "shell_exec(\"php artisan -h pint:format\");"
   ]
  },
  {
   "attachments": {},
   "cell_type": "markdown",
   "metadata": {},
   "source": [
    "Artisan will now show you that you have a new command called pint:format with all the options you provided in the signature property of the command. And to actually run the command, simply type:\n",
    "\n",
    "```console\n",
    "php artisan pint:format\n",
    "```"
   ]
  },
  {
   "cell_type": "code",
   "execution_count": 8,
   "metadata": {
    "vscode": {
     "languageId": "php"
    }
   },
   "outputs": [
    {
     "data": {
      "text/plain": [
       "'Running Pint...\n",
       "\n",
       "  ................................✓......................\n",
       "\n",
       "  ──────────────────────────────────────────────────────────────────── Laravel  \n",
       "    FIXED   .................................... 55 files, 1 style issue fixed  \n",
       "  ✓ app/Console/Commands/PintCommand.php concat_space, not_operator_with_succ…  \n",
       "\n",
       "\n",
       "'\n"
      ]
     },
     "execution_count": 8,
     "metadata": {},
     "output_type": "execute_result"
    }
   ],
   "source": [
    "shell_exec(\"php artisan pint:format\");"
   ]
  },
  {
   "attachments": {},
   "cell_type": "markdown",
   "metadata": {},
   "source": [
    "The possibilities are endless when it comes to Artisan commands. You can create more complex commands by adding more options and validations, or you can add more properties to the command class. For more information, be sure to check out the [Laravel documentation](https://laravel.com/docs/9.x/artisan#writing-commands) on writing Artisan commands.\n",
    "\n",
    "In conclusion, Artisan is a fantastic tool for streamlining your workflow and making your life as a developer much easier. Whether you're working with a team, or taking over an already-created project, Artisan can help you ensure that your code is properly formatted and follows best practices."
   ]
  }
 ],
 "metadata": {
  "kernelspec": {
   "display_name": "PHP",
   "language": "php",
   "name": "PHP"
  },
  "language_info": {
   "file_extension": ".php",
   "mimetype": "text/x-php",
   "name": "PHP",
   "pygments_lexer": "PHP",
   "version": "8.2.2"
  },
  "orig_nbformat": 4
 },
 "nbformat": 4,
 "nbformat_minor": 2
}
